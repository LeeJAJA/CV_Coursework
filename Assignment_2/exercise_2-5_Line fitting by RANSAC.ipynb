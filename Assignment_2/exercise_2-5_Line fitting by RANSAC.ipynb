{
 "cells": [
  {
   "cell_type": "markdown",
   "id": "095fb95e",
   "metadata": {},
   "source": [
    "# 05 (Programming) Line fitting by RANSAC\n",
    "\n",
    "\n",
    "RANSAC is widely used in fitting models from sample points with outliers. Please implement a program to fit a straight 2D line using RANSAC from the following sample points:\n",
    "(-2, 0), (0, 0.9), (2, 2.0), (3, 6.5), (4, 2.9), (5, 8.8), (6, 3.95), (8, 5.03), (10, 5.97), (12, 7.1), (13, 1.2), (14, 8.2), (16, 8.5), (18, 10.1). **Please show your result graphically.**\n",
    "\n",
    "**ID**: *1750655*    \n",
    "**Author:** *Jiajie Li*  \n",
    "**E-mail:** *JJ@hgeek.net*"
   ]
  },
  {
   "cell_type": "markdown",
   "id": "702eef8d",
   "metadata": {},
   "source": [
    "## 1 - Pre-processing"
   ]
  },
  {
   "cell_type": "code",
   "execution_count": 75,
   "id": "5197b607",
   "metadata": {},
   "outputs": [],
   "source": [
    "import math\n",
    "import numpy as np\n",
    "from random import sample\n",
    "from matplotlib import pyplot as plt\n",
    "%matplotlib inline"
   ]
  },
  {
   "cell_type": "code",
   "execution_count": 33,
   "id": "1f168436",
   "metadata": {},
   "outputs": [
    {
     "data": {
      "text/plain": [
       "array([[-2.  ,  0.  ,  2.  ,  3.  ,  4.  ,  5.  ,  6.  ,  8.  , 10.  ,\n",
       "        12.  , 13.  , 14.  , 16.  , 18.  ],\n",
       "       [ 0.  ,  0.9 ,  2.  ,  6.5 ,  2.9 ,  8.8 ,  3.95,  5.03,  5.97,\n",
       "         7.1 ,  1.2 ,  8.2 ,  8.5 , 10.1 ]])"
      ]
     },
     "execution_count": 33,
     "metadata": {},
     "output_type": "execute_result"
    }
   ],
   "source": [
    "raw_data = np.array([(-2, 0), (0, 0.9), (2, 2.0), (3, 6.5), \n",
    "        (4, 2.9), (5, 8.8), (6, 3.95), (8, 5.03), \n",
    "        (10, 5.97), (12, 7.1), (13, 1.2), (14, 8.2), \n",
    "        (16, 8.5), (18, 10.1)])\n",
    "raw_data_vis = data.transpose()\n",
    "raw_data_vis"
   ]
  },
  {
   "cell_type": "code",
   "execution_count": 38,
   "id": "d1e38f15",
   "metadata": {},
   "outputs": [
    {
     "data": {
      "image/png": "[encoded data removed]",
      "text/plain": [
       "<Figure size 560x560 with 1 Axes>"
      ]
     },
     "metadata": {
      "needs_background": "light"
     },
     "output_type": "display_data"
    }
   ],
   "source": [
    "fig = plt.figure(figsize=(7,7), dpi= 80)\n",
    "ax = fig.add_axes([0,0,1,1])\n",
    "ax.scatter(raw_data_vis[0], raw_data_vis[1], c='magenta', marker='x')\n",
    "ax.set_xlabel('x')\n",
    "ax.set_ylabel('y')\n",
    "ax.set_aspect(1)"
   ]
  },
  {
   "cell_type": "markdown",
   "id": "053d56a0",
   "metadata": {},
   "source": [
    "## 2 - Algorithm"
   ]
  },
  {
   "cell_type": "markdown",
   "id": "9d2b038e",
   "metadata": {},
   "source": [
    "### Step 0\n",
    "Define the parameters and  constans"
   ]
  },
  {
   "cell_type": "code",
   "execution_count": 193,
   "id": "423ec226",
   "metadata": {},
   "outputs": [],
   "source": [
    "# model parameters\n",
    "\n",
    "k = 0\n",
    "b = 0\n",
    "best_k = 0\n",
    "best_b = 0\n",
    "best_error = 999\n",
    "\n",
    "\n",
    "# RANSAC parameters\n",
    "\n",
    "s = 2 # sample size\n",
    "S = raw_data\n",
    "T_ratio = 0.8\n",
    "T = round(len(S)*T_ratio) # threshold of the number of inliers\n",
    "t = 0.5 # distance threshold for inliers\n",
    "N = 10000 # max trials\n",
    "\n",
    "# Constants - Auxiliary costants for plotting\n",
    "\n",
    "x_min = -2.5\n",
    "x_max = 17\n"
   ]
  },
  {
   "cell_type": "markdown",
   "id": "eadf05c9",
   "metadata": {},
   "source": [
    "### Step 1\n",
    "Randomly select a sample(2 points) of s data points from S and instantiate the model from this subset"
   ]
  },
  {
   "cell_type": "code",
   "execution_count": 137,
   "id": "178b8ce2",
   "metadata": {},
   "outputs": [
    {
     "data": {
      "text/plain": [
       "'k = 0.5174999999999998, b = 0.8900000000000015'"
      ]
     },
     "execution_count": 137,
     "metadata": {},
     "output_type": "execute_result"
    }
   ],
   "source": [
    "point_1, point_2 = random.sample(list(S), s)\n",
    "k = (point_2[1] - point_1[1]) / (point_2[0] - point_1[0])\n",
    "b = point_1[1] - point_1[0] * k\n",
    "\n",
    "f'k = {k}, b = {b}'"
   ]
  },
  {
   "cell_type": "code",
   "execution_count": 135,
   "id": "0bad64f4",
   "metadata": {},
   "outputs": [],
   "source": [
    "def get_line_plot(k, b):\n",
    "    line_x = [x_min, x_max]\n",
    "    line_y = [k * x_min + b, k * x_max + b]\n",
    "    return np.array(line_x), np.array(line_y)"
   ]
  },
  {
   "cell_type": "code",
   "execution_count": 74,
   "id": "1603fc00",
   "metadata": {},
   "outputs": [
    {
     "data": {
      "image/png": "[encoded data removed]",
      "text/plain": [
       "<Figure size 560x560 with 1 Axes>"
      ]
     },
     "metadata": {
      "needs_background": "light"
     },
     "output_type": "display_data"
    }
   ],
   "source": [
    "fig = plt.figure(figsize=(7,7), dpi= 80)\n",
    "ax = fig.add_axes([0,0,1,1])\n",
    "ax.scatter(raw_data_vis[0], raw_data_vis[1], c='magenta', marker='x')\n",
    "\n",
    "ax.scatter(point_1[0], point_1[1], c='cyan', marker='x')\n",
    "ax.scatter(point_2[0], point_2[1], c='cyan', marker='x')\n",
    "\n",
    "line_x, line_y = get_line_plot(k, b)\n",
    "ax.plot(line_x, line_y, c='cyan')\n",
    "\n",
    "ax.set_xlabel('x')\n",
    "ax.set_ylabel('y')\n",
    "ax.set_aspect(1)"
   ]
  },
  {
   "cell_type": "markdown",
   "id": "f6d33a2f",
   "metadata": {},
   "source": [
    "### Step 2\n",
    "Determine the set of data points Si which are within a distance threshold t of the model. The set Si is the consensus set of the sample and defines the inliers of S."
   ]
  },
  {
   "cell_type": "code",
   "execution_count": 77,
   "id": "551e95a3",
   "metadata": {},
   "outputs": [],
   "source": [
    "def distance(p1, p2):\n",
    "    return math.sqrt((p1[0] - p2[0])**2 + (p1[1] - p2[1])**2)\n",
    "\n",
    "def point_distance_line(point,line_point1, line_point2):\n",
    "    vec1 = line_point1 - point\n",
    "    vec2 = line_point2 - point\n",
    "    distance = np.abs(np.cross(vec1,vec2)) / np.linalg.norm(line_point1-line_point2)\n",
    "    return distance\n"
   ]
  },
  {
   "cell_type": "code",
   "execution_count": 98,
   "id": "290ccae0",
   "metadata": {},
   "outputs": [
    {
     "data": {
      "text/plain": [
       "('Inliers counts = 10 Threshold = 11',\n",
       " [array([-2.,  0.]),\n",
       "  array([0. , 0.9]),\n",
       "  array([2., 2.]),\n",
       "  array([4. , 2.9]),\n",
       "  array([6.  , 3.95]),\n",
       "  array([8.  , 5.03]),\n",
       "  array([10.  ,  5.97]),\n",
       "  array([12. ,  7.1]),\n",
       "  array([14. ,  8.2]),\n",
       "  array([18. , 10.1])])"
      ]
     },
     "execution_count": 98,
     "metadata": {},
     "output_type": "execute_result"
    }
   ],
   "source": [
    "inlier_counter = 0\n",
    "selected_points = []\n",
    "for point in list(S):\n",
    "    if point_distance_line(point, point_1, point_2) < t:\n",
    "        inlier_counter += 1\n",
    "        selected_points.append(point)\n",
    "        \n",
    "f'Inliers counts = {inlier_counter} Threshold = {T}', selected_points"
   ]
  },
  {
   "cell_type": "code",
   "execution_count": 188,
   "id": "ac60f8d3",
   "metadata": {},
   "outputs": [
    {
     "data": {
      "image/png": "[encoded data removed]",
      "text/plain": [
       "<Figure size 560x560 with 1 Axes>"
      ]
     },
     "metadata": {
      "needs_background": "light"
     },
     "output_type": "display_data"
    }
   ],
   "source": [
    "fig = plt.figure(figsize=(7,7), dpi= 80)\n",
    "ax = fig.add_axes([0,0,1,1])\n",
    "ax.scatter(raw_data_vis[0], raw_data_vis[1], c='magenta', marker='x')\n",
    "\n",
    "for point in list(S):\n",
    "    if point_distance_line(point, point_1, point_2) < t:\n",
    "        ax.scatter(point[0], point[1], c='cyan', marker='x')\n",
    "\n",
    "line_x, line_y = get_line_plot(k ,b)\n",
    "ax.plot(line_x, line_y, c='cyan')\n",
    "\n",
    "b_shift = t * math.sqrt(k**2+1) / 1\n",
    "line_x, line_y = get_line_plot(k ,b + b_shift)\n",
    "ax.plot(line_x, line_y, c='y', linestyle='-.')\n",
    "line_x, line_y = get_line_plot(k ,b - b_shift)\n",
    "ax.plot(line_x, line_y, c='y', linestyle='-.' )\n",
    "\n",
    "ax.set_xlabel('x')\n",
    "ax.set_ylabel('y')\n",
    "ax.set_aspect(1)"
   ]
  },
  {
   "cell_type": "markdown",
   "id": "f3a5a525",
   "metadata": {},
   "source": [
    "### Step 3, 4, 5\n",
    "If the size of Si (the number of inliers) is greater than some threshold \n",
    "T, re‐estimate the model using all points in Si and terminate\n",
    "\n",
    "If the size of Si is less than T, select a new subset and repeat the \n",
    "above\n",
    "\n",
    "After N trials the largest consensus set Si is selected, and the model is \n",
    "re‐estimated using all points in the subset Si"
   ]
  },
  {
   "cell_type": "code",
   "execution_count": 250,
   "id": "3ccb9cf3",
   "metadata": {},
   "outputs": [],
   "source": [
    "best_error = 999\n",
    "\n",
    "error_log = []\n",
    "error_step = []\n",
    "selected_points = []\n",
    "\n",
    "for step in range(N):\n",
    "    point_1, point_2 = random.sample(list(S), s)\n",
    "    k = (point_2[1] - point_1[1]) / (point_2[0] - point_1[0])\n",
    "    b = point_1[1] - point_1[0] * k\n",
    "\n",
    "    error = 0\n",
    "    inlier_counter = 0\n",
    "    cur_selected_points = []\n",
    "    for point in list(S):\n",
    "        error += point_distance_line(point, point_1, point_2)\n",
    "        if point_distance_line(point, point_1, point_2) < t:\n",
    "            inlier_counter += 1\n",
    "            cur_selected_points.append(point)\n",
    "            \n",
    "    if error < best_error:\n",
    "        best_p1 = point_1\n",
    "        best_p2 = point_2\n",
    "        best_error = error\n",
    "        best_b = b\n",
    "        best_k = k\n",
    "        error_log.append(error)\n",
    "        error_step.append(step)\n",
    "        selected_points = cur_selected_points\n",
    "        \n",
    "    if inlier_counter >= T:\n",
    "        break\n",
    "    else:\n",
    "        continue\n",
    "        "
   ]
  },
  {
   "cell_type": "code",
   "execution_count": 205,
   "id": "cd82e923",
   "metadata": {},
   "outputs": [
    {
     "data": {
      "text/plain": [
       "Text(0, 0.5, 'error')"
      ]
     },
     "execution_count": 205,
     "metadata": {},
     "output_type": "execute_result"
    },
    {
     "data": {
      "image/png": "[encoded data removed]",
      "text/plain": [
       "<Figure size 560x320 with 1 Axes>"
      ]
     },
     "metadata": {
      "needs_background": "light"
     },
     "output_type": "display_data"
    }
   ],
   "source": [
    "fig = plt.figure(figsize=(7,4), dpi= 80)\n",
    "ax = fig.add_axes([0,0,1,1])\n",
    "\n",
    "error, = ax.plot(error_step, error_log, c='red')\n",
    "\n",
    "\n",
    "ax.legend([error], ['error'])\n",
    "\n",
    "ax.set_xlabel('step')\n",
    "ax.set_ylabel('error')\n"
   ]
  },
  {
   "cell_type": "markdown",
   "id": "46b7f187",
   "metadata": {},
   "source": [
    "### Step 6\n",
    "re‐estimated using all points in the subset Si"
   ]
  },
  {
   "cell_type": "code",
   "execution_count": 251,
   "id": "735670d9",
   "metadata": {},
   "outputs": [
    {
     "name": "stdout",
     "output_type": "stream",
     "text": [
      "A = \n",
      "[[1, -2.0], [1, 0.0], [1, 2.0], [1, 4.0], [1, 6.0], [1, 8.0], [1, 10.0], [1, 12.0], [1, 14.0], [1, 16.0], [1, 18.0]]\n",
      "\n",
      "b = \n",
      "[[0.0], [0.9], [2.0], [2.9], [3.95], [5.03], [5.97], [7.1], [8.2], [8.5], [10.1]]\n",
      "\n",
      "ATA = \n",
      "[[  11.   88.]\n",
      " [  88. 1144.]]\n",
      "\n",
      "inv_ATA = \n",
      "[[ 0.23636364 -0.01818182]\n",
      " [-0.01818182  0.00227273]]\n",
      "\n",
      "ATb = \n",
      "[[ 54.65]\n",
      " [657.04]]\n",
      "\n",
      "solution = \n",
      "[[0.97109091]\n",
      " [0.49963636]]\n",
      "\n",
      "re_est_b = 0.9710909090909094 re_est_k = 0.49963636363636355\n"
     ]
    }
   ],
   "source": [
    "inlier_counter = 0\n",
    "selected_points = []\n",
    "    \n",
    "x, y = get_line_plot(best_k, best_b)\n",
    "point_1, point_2 = np.array([x[0], y[0]]), np.array([x[1], y[1]])\n",
    "for point in list(S):\n",
    "    if point_distance_line(point, point_1, point_2) < t:\n",
    "        selected_points.append(point)\n",
    "\n",
    "A = []\n",
    "b = []\n",
    "for point in selected_points:\n",
    "    A.append([1, point[0]])\n",
    "    b.append([point[1]])\n",
    "\n",
    "\n",
    "print(f'A = \\n{A}\\n')\n",
    "print(f'b = \\n{b}\\n')\n",
    "\n",
    "A = np.array(A)\n",
    "b = np.array(b)\n",
    "\n",
    "ATA = A.T.dot(A)\n",
    "inv_ATA = np.linalg.inv(ATA)\n",
    "ATb = A.T.dot(b)\n",
    "\n",
    "print(f'ATA = \\n{ATA}\\n')\n",
    "print(f'inv_ATA = \\n{inv_ATA}\\n')\n",
    "print(f'ATb = \\n{ATb}\\n')\n",
    "\n",
    "solution = inv_ATA.dot(ATb)\n",
    "print(f'solution = \\n{solution}\\n')\n",
    "re_est_b, re_est_k = solution[0][0], solution[1][0]\n",
    "print(f're_est_b = {re_est_b} re_est_k = {re_est_k}')"
   ]
  },
  {
   "cell_type": "markdown",
   "id": "d8a3e01e",
   "metadata": {},
   "source": [
    "### Step 7\n",
    "Plot the result"
   ]
  },
  {
   "cell_type": "code",
   "execution_count": 252,
   "id": "6f9f4b9d",
   "metadata": {},
   "outputs": [
    {
     "data": {
      "image/png": "[encoded data removed]",
      "text/plain": [
       "<Figure size 560x560 with 1 Axes>"
      ]
     },
     "metadata": {
      "needs_background": "light"
     },
     "output_type": "display_data"
    }
   ],
   "source": [
    "k = re_est_k \n",
    "b = re_est_b\n",
    "x, y = get_line_plot(re_est_k, re_est_b)\n",
    "point_1, point_2 = np.array([x[0], y[0]]), np.array([x[1], y[1]])\n",
    "\n",
    "fig = plt.figure(figsize=(7,7), dpi= 80)\n",
    "ax = fig.add_axes([0,0,1,1])\n",
    "outlier = ax.scatter(raw_data_vis[0], raw_data_vis[1], c='magenta', marker='x')\n",
    "\n",
    "for point in list(S):\n",
    "    if point_distance_line(point, point_1, point_2) < t:\n",
    "        inlier = ax.scatter(point[0], point[1], c='cyan', marker='x')\n",
    "        \n",
    "line_x, line_y = get_line_plot(k ,b)\n",
    "estimated, = ax.plot(line_x, line_y, c='cyan')\n",
    "\n",
    "b_shift = t * math.sqrt(k**2+1) / 1\n",
    "line_x, line_y = get_line_plot(k ,b + b_shift)\n",
    "inlier_bound, = ax.plot(line_x, line_y, c='y', linestyle='-.')\n",
    "line_x, line_y = get_line_plot(k ,b - b_shift)\n",
    "inlier_bound, = ax.plot(line_x, line_y, c='y', linestyle='-.')\n",
    "\n",
    "selected_point = ax.scatter(best_p1[0], best_p1[1], c='red', marker='x', zorder=30)\n",
    "selected_point = ax.scatter(best_p2[0], best_p2[1], c='red', marker='x', zorder=30)\n",
    "\n",
    "ax.legend([inlier_bound, estimated, selected_point, outlier, inlier], ['boundary', 'estimated', 'selected point', 'outlier', 'inlier'])\n",
    "\n",
    "ax.set_xlabel('x')\n",
    "ax.set_ylabel('y')\n",
    "ax.set_aspect(1)"
   ]
  }
 ],
 "metadata": {
  "kernelspec": {
   "display_name": "Python 3",
   "language": "python",
   "name": "python3"
  },
  "language_info": {
   "codemirror_mode": {
    "name": "ipython",
    "version": 3
   },
   "file_extension": ".py",
   "mimetype": "text/x-python",
   "name": "python",
   "nbconvert_exporter": "python",
   "pygments_lexer": "ipython3",
   "version": "3.8.3"
  }
 },
 "nbformat": 4,
 "nbformat_minor": 5
}
